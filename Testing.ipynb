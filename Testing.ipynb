{
 "cells": [
  {
   "cell_type": "code",
   "execution_count": 1,
   "metadata": {},
   "outputs": [],
   "source": [
    "from __future__ import unicode_literals, print_function\n",
    "\n",
    "import random\n",
    "from spacy import displacy\n",
    "\n",
    "from spacy.lang.pt_br import Portuguese\n",
    "from spacy.gold import GoldParse, biluo_tags_from_offsets"
   ]
  },
  {
   "cell_type": "code",
   "execution_count": 2,
   "metadata": {},
   "outputs": [],
   "source": [
    "def reformat_train_data(tokenizer, examples):\n",
    "    \"\"\"Reformat data to match JSON format\"\"\"\n",
    "    output = []\n",
    "    for i, (text, entity_offsets) in enumerate(examples):\n",
    "        doc = tokenizer(text)\n",
    "        ner_tags = biluo_tags_from_offsets(tokenizer(text), entity_offsets)\n",
    "        words = [w.text for w in doc]\n",
    "        tags = ['-'] * len(doc)\n",
    "        heads = [0] * len(doc)\n",
    "        deps = [''] * len(doc)\n",
    "        sentence = (range(len(doc)), words, tags, heads, deps, ner_tags)\n",
    "        output.append((text, [(sentence, [])]))\n",
    "    return output"
   ]
  },
  {
   "cell_type": "code",
   "execution_count": 3,
   "metadata": {},
   "outputs": [],
   "source": [
    "def train(model_dir=None):\n",
    "    train_data = [\n",
    "        (\n",
    "            'vocês trabalham com médico do trabalho?',\n",
    "            [(len('vocês trabalham com '), len('vocês trabalham com médico do trabalho'), 'MEDICO')]\n",
    "        ),\n",
    "        (\n",
    "            'quando tem gastroenterologista?',\n",
    "            [(len('quando tem '), len('quando tem gastroenterologista'), 'MEDICO')]\n",
    "        ),\n",
    "        (\n",
    "            'quando será que terá urolugista?',\n",
    "            [(len('quando será que terá '), len('quando será que terá urolugista'), 'MEDICO')]\n",
    "        ),\n",
    "        (\n",
    "            'quando tem médico otorrinolaringologista?',\n",
    "            [(len('quando tem médico '), len('quando tem médico otorrinolaringologista'), 'MEDICO')]\n",
    "        ),\n",
    "        (\n",
    "            'tem ortopedista?',\n",
    "            [(len('tem '), len('tem ortopedista'), 'MEDICO')]\n",
    "        ),\n",
    "        (\n",
    "            'quando tem médico angiologista aí?',\n",
    "            [(len('quando tem médico '), len('quando tem médico angiologista'), 'MEDICO')]\n",
    "        ),\n",
    "        (\n",
    "            'tem algum médico cardiologista atendendo essa semana?',\n",
    "            [(len('tem algum médico '), len('tem algum médico cardiologista'), 'MEDICO')]\n",
    "        ),\n",
    "        (\n",
    "            'vocês tem médico dermatologista?',\n",
    "            [(len('vocês tem médico '), len('vocês tem médico dermatologista'), 'MEDICO')]\n",
    "        ),\n",
    "        (\n",
    "            'qual o valor da consulta do doutor honório?',\n",
    "            [(len('qual o valor da consulta do doutor '), len('qual o valor da consulta do doutor honório'), 'MEDICO')]\n",
    "        ),\n",
    "        (\n",
    "            'quais os dias que doutor honório atende?',\n",
    "            [(len('quais os dias que doutor '), len('quais os dias que doutor honório'), 'MEDICO')]\n",
    "        )\n",
    "    ]\n",
    "    nlp = Portuguese(pipeline=['tensorizer', 'ner'])\n",
    "    get_data = lambda: reformat_train_data(nlp.tokenizer, train_data)\n",
    "    optimizer = nlp.begin_training(get_data)\n",
    "    for itn in range(100):\n",
    "        random.shuffle(train_data)\n",
    "        losses = {}\n",
    "        for raw_text, entity_offsets in train_data:\n",
    "            doc = nlp.make_doc(raw_text)\n",
    "            gold = GoldParse(doc, entities=entity_offsets)\n",
    "            nlp.update(\n",
    "                [doc], # Batch of Doc objects\n",
    "                [gold], # Batch of GoldParse objects\n",
    "                drop=0.5, # Dropout -- make it harder to memorise data\n",
    "                sgd=optimizer, # Callable to update weights\n",
    "                losses=losses)\n",
    "#         print(losses)\n",
    "    print(\"Save to\", model_dir)\n",
    "    nlp.to_disk(model_dir)"
   ]
  },
  {
   "cell_type": "markdown",
   "metadata": {},
   "source": [
    "# Training"
   ]
  },
  {
   "cell_type": "code",
   "execution_count": 4,
   "metadata": {},
   "outputs": [
    {
     "name": "stdout",
     "output_type": "stream",
     "text": [
      "Save to ner model\n"
     ]
    }
   ],
   "source": [
    "train('ner model')"
   ]
  },
  {
   "cell_type": "markdown",
   "metadata": {},
   "source": [
    "# Predicting"
   ]
  },
  {
   "cell_type": "code",
   "execution_count": 5,
   "metadata": {},
   "outputs": [],
   "source": [
    "from IPython.core.display import display, HTML\n",
    "\n",
    "def predict(model_dir=None, text=None):\n",
    "    nlp = Portuguese(pipeline=['tensorizer', 'ner'])\n",
    "    nlp.from_disk(model_dir)\n",
    "    \n",
    "    print(\"Load from\", model_dir)\n",
    "\n",
    "    doc = nlp(text)\n",
    "    html = displacy.render(doc, style='ent')\n",
    "    return display(HTML(html))"
   ]
  },
  {
   "cell_type": "code",
   "execution_count": 9,
   "metadata": {},
   "outputs": [
    {
     "name": "stdout",
     "output_type": "stream",
     "text": [
      "Load from ner model\n"
     ]
    },
    {
     "data": {
      "text/html": [
       "<div class=\"entities\" style=\"line-height: 2.5\">Tem médico \n",
       "<mark class=\"entity\" style=\"background: #ddd; padding: 0.45em 0.6em; margin: 0 0.25em; line-height: 1; border-radius: 0.35em; box-decoration-break: clone; -webkit-box-decoration-break: clone\">\n",
       "    otorrino\n",
       "    <span style=\"font-size: 0.8em; font-weight: bold; line-height: 1; border-radius: 0.35em; text-transform: uppercase; vertical-align: middle; margin-left: 0.5rem\">MEDICO</span>\n",
       "</mark>\n",
       " amanhã?</div>"
      ],
      "text/plain": [
       "<IPython.core.display.HTML object>"
      ]
     },
     "metadata": {},
     "output_type": "display_data"
    }
   ],
   "source": [
    "predict('ner model', 'Tem médico otorrino amanhã?')"
   ]
  },
  {
   "cell_type": "code",
   "execution_count": null,
   "metadata": {},
   "outputs": [],
   "source": []
  }
 ],
 "metadata": {
  "kernelspec": {
   "display_name": "Python 3",
   "language": "python",
   "name": "python3"
  },
  "language_info": {
   "codemirror_mode": {
    "name": "ipython",
    "version": 3
   },
   "file_extension": ".py",
   "mimetype": "text/x-python",
   "name": "python",
   "nbconvert_exporter": "python",
   "pygments_lexer": "ipython3",
   "version": "3.4.4"
  }
 },
 "nbformat": 4,
 "nbformat_minor": 2
}
